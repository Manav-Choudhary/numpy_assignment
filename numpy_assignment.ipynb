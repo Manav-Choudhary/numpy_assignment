{
 "cells": [
  {
   "cell_type": "code",
   "execution_count": 3,
   "id": "5d980f07",
   "metadata": {},
   "outputs": [
    {
     "name": "stdout",
     "output_type": "stream",
     "text": [
      "<class 'list'>\n",
      "<class 'numpy.ndarray'>\n"
     ]
    }
   ],
   "source": [
    "#Ques 1\n",
    "import numpy as np\n",
    "list_ = [ '1' , '2' , '3' , '4' , '5' ]\n",
    "array_list = np.array(object = list_)\n",
    "print(type(list_))\n",
    "print(type(array_list))"
   ]
  },
  {
   "cell_type": "code",
   "execution_count": 12,
   "id": "3469da30",
   "metadata": {},
   "outputs": [
    {
     "name": "stdout",
     "output_type": "stream",
     "text": [
      "Elements present in list list_\n",
      "<class 'str'> <class 'str'> <class 'str'> <class 'str'> <class 'str'> \n",
      "Element present in numpy array array_list\n",
      "<class 'numpy.str_'> <class 'numpy.str_'> <class 'numpy.str_'> <class 'numpy.str_'> <class 'numpy.str_'> "
     ]
    }
   ],
   "source": [
    "#Ques 2\n",
    "print(\"Elements present in list {}\".format('list_'))\n",
    "for i in list_:\n",
    "    print(type(i),end=\" \")\n",
    "print()\n",
    "print(\"Element present in numpy array {}\".format('array_list'))\n",
    "for i in array_list:\n",
    "    print(type(i),end=' ')"
   ]
  },
  {
   "cell_type": "code",
   "execution_count": 13,
   "id": "2b9b6754",
   "metadata": {},
   "outputs": [
    {
     "name": "stdout",
     "output_type": "stream",
     "text": [
      "Elements present in list list_\n",
      "<class 'str'> <class 'str'> <class 'str'> <class 'str'> <class 'str'> \n",
      "Element present in numpy array array_list\n",
      "<class 'numpy.int32'> <class 'numpy.int32'> <class 'numpy.int32'> <class 'numpy.int32'> <class 'numpy.int32'> "
     ]
    }
   ],
   "source": [
    "#Ques 3\n",
    "#Elements present in list_ is of 'str' type whereas in array_list is of 'int' type\n",
    "array_list = np.array(object = list_, dtype = int)\n",
    "print(\"Elements present in list {}\".format('list_'))\n",
    "for i in list_:\n",
    "    print(type(i),end=\" \")\n",
    "print()\n",
    "print(\"Element present in numpy array {}\".format('array_list'))\n",
    "for i in array_list:\n",
    "    print(type(i),end=' ')"
   ]
  },
  {
   "cell_type": "code",
   "execution_count": 15,
   "id": "3089d504",
   "metadata": {},
   "outputs": [
    {
     "name": "stdout",
     "output_type": "stream",
     "text": [
      "(2, 3)\n",
      "6\n"
     ]
    }
   ],
   "source": [
    "#Ques 4\n",
    "import numpy as np\n",
    "num_list=[[1,2,3],[4,5,6]]\n",
    "num_array=np.array(object=num_list)\n",
    "#Shape is used to return a tuple in form of (rows,cols)\n",
    "print(num_array.shape)\n",
    "#Size is used to return the no of elements present in num_array\n",
    "print(num_array.size)"
   ]
  },
  {
   "cell_type": "code",
   "execution_count": 17,
   "id": "c13accf9",
   "metadata": {},
   "outputs": [
    {
     "name": "stdout",
     "output_type": "stream",
     "text": [
      "[[0. 0. 0.]\n",
      " [0. 0. 0.]\n",
      " [0. 0. 0.]]\n",
      "2\n",
      "(3, 3)\n",
      "9\n"
     ]
    }
   ],
   "source": [
    "#Ques 5\n",
    "import numpy as np\n",
    "arr=np.zeros((3,3))\n",
    "print(arr)\n",
    "print(arr.ndim)\n",
    "print(arr.shape)\n",
    "print(arr.size)"
   ]
  },
  {
   "cell_type": "code",
   "execution_count": 19,
   "id": "ef9beef7",
   "metadata": {},
   "outputs": [
    {
     "name": "stdout",
     "output_type": "stream",
     "text": [
      "[[1 0 0 0 0]\n",
      " [0 1 0 0 0]\n",
      " [0 0 1 0 0]\n",
      " [0 0 0 1 0]\n",
      " [0 0 0 0 1]]\n"
     ]
    }
   ],
   "source": [
    "#Ques 6\n",
    "#Identity matrix of shape (5,5)\n",
    "import numpy as np\n",
    "arr=np.identity(5,dtype='int')\n",
    "print(arr)"
   ]
  }
 ],
 "metadata": {
  "kernelspec": {
   "display_name": "Python 3 (ipykernel)",
   "language": "python",
   "name": "python3"
  },
  "language_info": {
   "codemirror_mode": {
    "name": "ipython",
    "version": 3
   },
   "file_extension": ".py",
   "mimetype": "text/x-python",
   "name": "python",
   "nbconvert_exporter": "python",
   "pygments_lexer": "ipython3",
   "version": "3.9.7"
  }
 },
 "nbformat": 4,
 "nbformat_minor": 5
}
